{
 "cells": [
  {
   "cell_type": "markdown",
   "metadata": {},
   "source": [
    "# *Offline Handwritten Character Recognition*\n",
    "\n",
    "### The purpose of this notebook is to build up an simple machine learning model for offline handwritten text recognition by using segmentation and classification. \n",
    "\n",
    "I borrowed initial source code here, and made further adjustment based on that. Initial-code: https://www.kaggle.com/code/aman10kr/offline-handwritten-text-ocr"
   ]
  },
  {
   "cell_type": "markdown",
   "metadata": {},
   "source": [
    "## Approach\n",
    "\n",
    "* **Step1** :  Build a A-Z characters classifier using a CNN architecture.\n",
    "* **Step2** :  Apply character segmentation for the handwritten word image.\n",
    "* **Step3** :  Classify each segmented letter and then get the final word in the image."
   ]
  },
  {
   "cell_type": "markdown",
   "metadata": {},
   "source": [
    "### Step 1: Build a A-Z characters classifier using a CNN architecture."
   ]
  },
  {
   "cell_type": "code",
   "execution_count": 2,
   "metadata": {
    "_cell_guid": "79c7e3d0-c299-4dcb-8224-4455121ee9b0",
    "_uuid": "d629ff2d2480ee46fbb7e2d37f6b5fab8052498a"
   },
   "outputs": [
    {
     "name": "stderr",
     "output_type": "stream",
     "text": [
      "2023-12-17 16:55:46.613014: I tensorflow/core/platform/cpu_feature_guard.cc:182] This TensorFlow binary is optimized to use available CPU instructions in performance-critical operations.\n",
      "To enable the following instructions: AVX2 FMA, in other operations, rebuild TensorFlow with the appropriate compiler flags.\n"
     ]
    }
   ],
   "source": [
    "import numpy as np\n",
    "import pandas as pd\n",
    "from keras.preprocessing.image import ImageDataGenerator\n",
    "import os\n",
    "import random \n",
    "import cv2\n",
    "import imutils\n",
    "import random\n",
    "import matplotlib.pyplot as plt\n",
    "import seaborn as sns\n",
    "from sklearn.preprocessing import LabelBinarizer\n",
    "from keras.models import Sequential\n",
    "from keras import optimizers\n",
    "from sklearn.preprocessing import LabelBinarizer\n",
    "from keras import backend as K\n",
    "from keras.layers import Dense, Activation, Flatten, Dense,MaxPooling2D, Dropout\n",
    "from keras.layers import Conv2D, MaxPooling2D, BatchNormalization"
   ]
  },
  {
   "cell_type": "code",
   "execution_count": 4,
   "metadata": {},
   "outputs": [
    {
     "name": "stdout",
     "output_type": "stream",
     "text": [
      "Skipping non-directory: ./handwritten-characters/Train/.DS_Store\n"
     ]
    }
   ],
   "source": [
    "dir = \"./handwritten-characters/Train\"\n",
    "train_data = []\n",
    "img_size = 32\n",
    "non_chars = [\"#\",\"$\",\"&\",\"@\",\"0\",\"1\",\"2\",\"3\",\"4\",\"5\",\"6\",\"7\",\"8\",\"9\"]\n",
    "for i in os.listdir(dir):\n",
    "    if i in non_chars:\n",
    "        continue\n",
    "    count = 0\n",
    "    sub_directory = os.path.join(dir,i)\n",
    "    if os.path.isdir(sub_directory):\n",
    "        for j in os.listdir(sub_directory):\n",
    "            count+=1\n",
    "            if count > 4000:\n",
    "                break\n",
    "            img = cv2.imread(os.path.join(sub_directory,j),0)\n",
    "            img = cv2.resize(img,(img_size,img_size))\n",
    "            train_data.append([img,i])\n",
    "    else:\n",
    "        print(f\"Skipping non-directory: {sub_directory}\")"
   ]
  },
  {
   "cell_type": "code",
   "execution_count": 5,
   "metadata": {},
   "outputs": [
    {
     "data": {
      "text/plain": [
       "100000"
      ]
     },
     "execution_count": 5,
     "metadata": {},
     "output_type": "execute_result"
    }
   ],
   "source": [
    "len(train_data)"
   ]
  },
  {
   "cell_type": "code",
   "execution_count": 27,
   "metadata": {},
   "outputs": [],
   "source": [
    "val_dir = \"./handwritten-characters/Validation/\"\n",
    "val_data = []\n",
    "img_size = 32\n",
    "for i in os.listdir(val_dir):\n",
    "    if i in non_chars:\n",
    "        continue\n",
    "    count = 0\n",
    "    sub_directory = os.path.join(val_dir,i)\n",
    "    if os.path.isdir(sub_directory):\n",
    "        for j in os.listdir(sub_directory):\n",
    "            count+=1\n",
    "            if count > 1000:\n",
    "                break\n",
    "            img = cv2.imread(os.path.join(sub_directory,j),0)\n",
    "            img = cv2.resize(img,(img_size,img_size))\n",
    "            val_data.append([img,i])\n",
    "    else:\n",
    "        print(f\"Skipping non-directory: {sub_directory}\")"
   ]
  },
  {
   "cell_type": "code",
   "execution_count": 28,
   "metadata": {},
   "outputs": [
    {
     "data": {
      "text/plain": [
       "6651"
      ]
     },
     "execution_count": 28,
     "metadata": {},
     "output_type": "execute_result"
    }
   ],
   "source": [
    "len(val_data)"
   ]
  },
  {
   "cell_type": "code",
   "execution_count": 29,
   "metadata": {},
   "outputs": [],
   "source": [
    "random.shuffle(train_data)\n",
    "\n",
    "random.shuffle(val_data)"
   ]
  },
  {
   "cell_type": "code",
   "execution_count": 31,
   "metadata": {},
   "outputs": [],
   "source": [
    "train_X = []\n",
    "train_Y = []\n",
    "for features,label in train_data:\n",
    "    train_X.append(features)\n",
    "    train_Y.append(label)"
   ]
  },
  {
   "cell_type": "code",
   "execution_count": 32,
   "metadata": {},
   "outputs": [],
   "source": [
    "val_X = []\n",
    "val_Y = []\n",
    "for features,label in val_data:\n",
    "    val_X.append(features)\n",
    "    val_Y.append(label)"
   ]
  },
  {
   "cell_type": "code",
   "execution_count": 33,
   "metadata": {},
   "outputs": [],
   "source": [
    "LB = LabelBinarizer()\n",
    "train_Y = LB.fit_transform(train_Y)\n",
    "val_Y = LB.fit_transform(val_Y)"
   ]
  },
  {
   "cell_type": "code",
   "execution_count": 34,
   "metadata": {},
   "outputs": [],
   "source": [
    "train_X = np.array(train_X)/255.0\n",
    "train_X = train_X.reshape(-1,32,32,1)\n",
    "train_Y = np.array(train_Y)"
   ]
  },
  {
   "cell_type": "code",
   "execution_count": 35,
   "metadata": {},
   "outputs": [],
   "source": [
    "val_X = np.array(val_X)/255.0\n",
    "val_X = val_X.reshape(-1,32,32,1)\n",
    "val_Y = np.array(val_Y)"
   ]
  },
  {
   "cell_type": "code",
   "execution_count": 36,
   "metadata": {},
   "outputs": [
    {
     "name": "stdout",
     "output_type": "stream",
     "text": [
      "(100000, 32, 32, 1) (6651, 32, 32, 1)\n"
     ]
    }
   ],
   "source": [
    "print(train_X.shape,val_X.shape)"
   ]
  },
  {
   "cell_type": "code",
   "execution_count": 37,
   "metadata": {},
   "outputs": [
    {
     "name": "stdout",
     "output_type": "stream",
     "text": [
      "(100000, 25) (6651, 25)\n"
     ]
    }
   ],
   "source": [
    "print(train_Y.shape,val_Y.shape)"
   ]
  },
  {
   "cell_type": "markdown",
   "metadata": {},
   "source": [
    "#### Initial Model:"
   ]
  },
  {
   "cell_type": "code",
   "execution_count": 14,
   "metadata": {},
   "outputs": [],
   "source": [
    "model = Sequential()\n",
    "\n",
    "model.add(Conv2D(32, (3, 3), padding = \"same\", activation='relu', input_shape=(32,32,1)))\n",
    "model.add(MaxPooling2D(pool_size=(2,2)))\n",
    "model.add(Conv2D(64, (3, 3), activation='relu'))\n",
    "model.add(MaxPooling2D(pool_size=(2,2)))\n",
    "model.add(Conv2D(128, (3, 3), activation='relu'))\n",
    "model.add(MaxPooling2D(pool_size=(2,2)))\n",
    "model.add(Dropout(0.25))\n",
    " \n",
    "model.add(Flatten())\n",
    "model.add(Dense(128, activation='relu'))\n",
    "model.add(Dropout(0.2))\n",
    "model.add(Dense(35, activation='softmax'))"
   ]
  },
  {
   "cell_type": "code",
   "execution_count": 15,
   "metadata": {},
   "outputs": [
    {
     "name": "stdout",
     "output_type": "stream",
     "text": [
      "Model: \"sequential\"\n",
      "_________________________________________________________________\n",
      " Layer (type)                Output Shape              Param #   \n",
      "=================================================================\n",
      " conv2d (Conv2D)             (None, 32, 32, 32)        320       \n",
      "                                                                 \n",
      " max_pooling2d (MaxPooling2  (None, 16, 16, 32)        0         \n",
      " D)                                                              \n",
      "                                                                 \n",
      " conv2d_1 (Conv2D)           (None, 14, 14, 64)        18496     \n",
      "                                                                 \n",
      " max_pooling2d_1 (MaxPoolin  (None, 7, 7, 64)          0         \n",
      " g2D)                                                            \n",
      "                                                                 \n",
      " conv2d_2 (Conv2D)           (None, 5, 5, 128)         73856     \n",
      "                                                                 \n",
      " max_pooling2d_2 (MaxPoolin  (None, 2, 2, 128)         0         \n",
      " g2D)                                                            \n",
      "                                                                 \n",
      " dropout (Dropout)           (None, 2, 2, 128)         0         \n",
      "                                                                 \n",
      " flatten (Flatten)           (None, 512)               0         \n",
      "                                                                 \n",
      " dense (Dense)               (None, 128)               65664     \n",
      "                                                                 \n",
      " dropout_1 (Dropout)         (None, 128)               0         \n",
      "                                                                 \n",
      " dense_1 (Dense)             (None, 35)                4515      \n",
      "                                                                 \n",
      "=================================================================\n",
      "Total params: 162851 (636.14 KB)\n",
      "Trainable params: 162851 (636.14 KB)\n",
      "Non-trainable params: 0 (0.00 Byte)\n",
      "_________________________________________________________________\n"
     ]
    }
   ],
   "source": [
    "model.summary()"
   ]
  },
  {
   "cell_type": "code",
   "execution_count": 26,
   "metadata": {},
   "outputs": [],
   "source": [
    "model.compile(loss='categorical_crossentropy', optimizer=\"adam\",metrics=['accuracy'])"
   ]
  },
  {
   "cell_type": "code",
   "execution_count": 27,
   "metadata": {},
   "outputs": [
    {
     "name": "stdout",
     "output_type": "stream",
     "text": [
      "Epoch 1/50\n",
      "4375/4375 [==============================] - 115s 26ms/step - loss: 0.6039 - accuracy: 0.8082 - val_loss: 0.3226 - val_accuracy: 0.8931\n",
      "Epoch 2/50\n",
      "4375/4375 [==============================] - 126s 29ms/step - loss: 0.3441 - accuracy: 0.8849 - val_loss: 0.2950 - val_accuracy: 0.9006\n",
      "Epoch 3/50\n",
      "4375/4375 [==============================] - 115s 26ms/step - loss: 0.3009 - accuracy: 0.8978 - val_loss: 0.3020 - val_accuracy: 0.8871\n",
      "Epoch 4/50\n",
      "4375/4375 [==============================] - 110s 25ms/step - loss: 0.2772 - accuracy: 0.9061 - val_loss: 0.2587 - val_accuracy: 0.9073\n",
      "Epoch 5/50\n",
      "4375/4375 [==============================] - 116s 26ms/step - loss: 0.2579 - accuracy: 0.9103 - val_loss: 0.2481 - val_accuracy: 0.9154\n",
      "Epoch 6/50\n",
      "4375/4375 [==============================] - 117s 27ms/step - loss: 0.2450 - accuracy: 0.9154 - val_loss: 0.2531 - val_accuracy: 0.9141\n",
      "Epoch 7/50\n",
      "4375/4375 [==============================] - 111s 25ms/step - loss: 0.2348 - accuracy: 0.9176 - val_loss: 0.2330 - val_accuracy: 0.9185\n",
      "Epoch 8/50\n",
      "4375/4375 [==============================] - 105s 24ms/step - loss: 0.2283 - accuracy: 0.9190 - val_loss: 0.2321 - val_accuracy: 0.9234\n",
      "Epoch 9/50\n",
      "4375/4375 [==============================] - 110s 25ms/step - loss: 0.2207 - accuracy: 0.9217 - val_loss: 0.2267 - val_accuracy: 0.9265\n",
      "Epoch 10/50\n",
      "4375/4375 [==============================] - 121s 28ms/step - loss: 0.2141 - accuracy: 0.9241 - val_loss: 0.2438 - val_accuracy: 0.9174\n",
      "Epoch 11/50\n",
      "4375/4375 [==============================] - 138s 31ms/step - loss: 0.2089 - accuracy: 0.9251 - val_loss: 0.2320 - val_accuracy: 0.9240\n",
      "Epoch 12/50\n",
      "4375/4375 [==============================] - 124s 28ms/step - loss: 0.2052 - accuracy: 0.9265 - val_loss: 0.2504 - val_accuracy: 0.9095\n",
      "Epoch 13/50\n",
      "4375/4375 [==============================] - 122s 28ms/step - loss: 0.2021 - accuracy: 0.9270 - val_loss: 0.2240 - val_accuracy: 0.9220\n",
      "Epoch 14/50\n",
      "4375/4375 [==============================] - 115s 26ms/step - loss: 0.1980 - accuracy: 0.9281 - val_loss: 0.2393 - val_accuracy: 0.9168\n",
      "Epoch 15/50\n",
      "4375/4375 [==============================] - 110s 25ms/step - loss: 0.1934 - accuracy: 0.9296 - val_loss: 0.2305 - val_accuracy: 0.9272\n",
      "Epoch 16/50\n",
      "4375/4375 [==============================] - 109s 25ms/step - loss: 0.1909 - accuracy: 0.9297 - val_loss: 0.2418 - val_accuracy: 0.9151\n",
      "Epoch 17/50\n",
      "4375/4375 [==============================] - 116s 27ms/step - loss: 0.1881 - accuracy: 0.9308 - val_loss: 0.2350 - val_accuracy: 0.9221\n",
      "Epoch 18/50\n",
      "4375/4375 [==============================] - 111s 25ms/step - loss: 0.1867 - accuracy: 0.9311 - val_loss: 0.2519 - val_accuracy: 0.9160\n",
      "Epoch 19/50\n",
      "4375/4375 [==============================] - 112s 26ms/step - loss: 0.1842 - accuracy: 0.9329 - val_loss: 0.2252 - val_accuracy: 0.9270\n",
      "Epoch 20/50\n",
      "4375/4375 [==============================] - 115s 26ms/step - loss: 0.1831 - accuracy: 0.9317 - val_loss: 0.2431 - val_accuracy: 0.9177\n",
      "Epoch 21/50\n",
      "4375/4375 [==============================] - 115s 26ms/step - loss: 0.1797 - accuracy: 0.9335 - val_loss: 0.2561 - val_accuracy: 0.9153\n",
      "Epoch 22/50\n",
      "4375/4375 [==============================] - 106s 24ms/step - loss: 0.1792 - accuracy: 0.9339 - val_loss: 0.2515 - val_accuracy: 0.9207\n",
      "Epoch 23/50\n",
      "4375/4375 [==============================] - 114s 26ms/step - loss: 0.1804 - accuracy: 0.9330 - val_loss: 0.2411 - val_accuracy: 0.9271\n",
      "Epoch 24/50\n",
      "4375/4375 [==============================] - 114s 26ms/step - loss: 0.1764 - accuracy: 0.9349 - val_loss: 0.2514 - val_accuracy: 0.9169\n",
      "Epoch 25/50\n",
      "4375/4375 [==============================] - 108s 25ms/step - loss: 0.1758 - accuracy: 0.9353 - val_loss: 0.2613 - val_accuracy: 0.9135\n",
      "Epoch 26/50\n",
      "4375/4375 [==============================] - 106s 24ms/step - loss: 0.1734 - accuracy: 0.9354 - val_loss: 0.2452 - val_accuracy: 0.9222\n",
      "Epoch 27/50\n",
      "4375/4375 [==============================] - 107s 25ms/step - loss: 0.1738 - accuracy: 0.9352 - val_loss: 0.2585 - val_accuracy: 0.9208\n",
      "Epoch 28/50\n",
      "4375/4375 [==============================] - 101s 23ms/step - loss: 0.1709 - accuracy: 0.9366 - val_loss: 0.2835 - val_accuracy: 0.9128\n",
      "Epoch 29/50\n",
      "4375/4375 [==============================] - 101s 23ms/step - loss: 0.1705 - accuracy: 0.9362 - val_loss: 0.2688 - val_accuracy: 0.9181\n",
      "Epoch 30/50\n",
      "4375/4375 [==============================] - 118s 27ms/step - loss: 0.1702 - accuracy: 0.9363 - val_loss: 0.2643 - val_accuracy: 0.9194\n",
      "Epoch 31/50\n",
      "4375/4375 [==============================] - 107s 24ms/step - loss: 0.1684 - accuracy: 0.9373 - val_loss: 0.2579 - val_accuracy: 0.9225\n",
      "Epoch 32/50\n",
      "4375/4375 [==============================] - 109s 25ms/step - loss: 0.1698 - accuracy: 0.9370 - val_loss: 0.2618 - val_accuracy: 0.9148\n",
      "Epoch 33/50\n",
      "4375/4375 [==============================] - 107s 24ms/step - loss: 0.1672 - accuracy: 0.9374 - val_loss: 0.2703 - val_accuracy: 0.9157\n",
      "Epoch 34/50\n",
      "4375/4375 [==============================] - 107s 24ms/step - loss: 0.1685 - accuracy: 0.9372 - val_loss: 0.2594 - val_accuracy: 0.9211\n",
      "Epoch 35/50\n",
      "4375/4375 [==============================] - 116s 27ms/step - loss: 0.1677 - accuracy: 0.9380 - val_loss: 0.2706 - val_accuracy: 0.9134\n",
      "Epoch 36/50\n",
      "4375/4375 [==============================] - 114s 26ms/step - loss: 0.1646 - accuracy: 0.9381 - val_loss: 0.2580 - val_accuracy: 0.9239\n",
      "Epoch 37/50\n",
      "4375/4375 [==============================] - 112s 26ms/step - loss: 0.1641 - accuracy: 0.9389 - val_loss: 0.2629 - val_accuracy: 0.9217\n",
      "Epoch 38/50\n",
      "4375/4375 [==============================] - 111s 25ms/step - loss: 0.1647 - accuracy: 0.9385 - val_loss: 0.2646 - val_accuracy: 0.9174\n",
      "Epoch 39/50\n",
      "4375/4375 [==============================] - 117s 27ms/step - loss: 0.1667 - accuracy: 0.9386 - val_loss: 0.2818 - val_accuracy: 0.9126\n",
      "Epoch 40/50\n",
      "4375/4375 [==============================] - 119s 27ms/step - loss: 0.1641 - accuracy: 0.9391 - val_loss: 0.2701 - val_accuracy: 0.9175\n",
      "Epoch 41/50\n",
      "4375/4375 [==============================] - 116s 27ms/step - loss: 0.1657 - accuracy: 0.9381 - val_loss: 0.2703 - val_accuracy: 0.9216\n",
      "Epoch 42/50\n",
      "4375/4375 [==============================] - 112s 26ms/step - loss: 0.1628 - accuracy: 0.9397 - val_loss: 0.2712 - val_accuracy: 0.9214\n",
      "Epoch 43/50\n",
      "4375/4375 [==============================] - 119s 27ms/step - loss: 0.1629 - accuracy: 0.9388 - val_loss: 0.2699 - val_accuracy: 0.9160\n",
      "Epoch 44/50\n",
      "4375/4375 [==============================] - 116s 26ms/step - loss: 0.1609 - accuracy: 0.9407 - val_loss: 0.2652 - val_accuracy: 0.9235\n",
      "Epoch 45/50\n",
      "4375/4375 [==============================] - 112s 25ms/step - loss: 0.1623 - accuracy: 0.9391 - val_loss: 0.2754 - val_accuracy: 0.9214\n",
      "Epoch 46/50\n",
      "4375/4375 [==============================] - 118s 27ms/step - loss: 0.1610 - accuracy: 0.9403 - val_loss: 0.2660 - val_accuracy: 0.9230\n",
      "Epoch 47/50\n",
      "4375/4375 [==============================] - 118s 27ms/step - loss: 0.1617 - accuracy: 0.9403 - val_loss: 0.2960 - val_accuracy: 0.9102\n",
      "Epoch 48/50\n",
      "4375/4375 [==============================] - 105s 24ms/step - loss: 0.1605 - accuracy: 0.9403 - val_loss: 0.2862 - val_accuracy: 0.9162\n",
      "Epoch 49/50\n",
      "4375/4375 [==============================] - 110s 25ms/step - loss: 0.1612 - accuracy: 0.9400 - val_loss: 0.2743 - val_accuracy: 0.9222\n",
      "Epoch 50/50\n",
      "4375/4375 [==============================] - 109s 25ms/step - loss: 0.1593 - accuracy: 0.9409 - val_loss: 0.2582 - val_accuracy: 0.9241\n"
     ]
    }
   ],
   "source": [
    "history = model.fit(train_X,train_Y, epochs=50, batch_size=32, validation_data = (val_X, val_Y),  verbose=1)"
   ]
  },
  {
   "cell_type": "markdown",
   "metadata": {},
   "source": [
    "## Model changes: \n",
    "*Batch Normalization* : Add Batch Normalization layers to normalize the inputs between layers, which can accelerate training and improve model convergence.\n",
    "\n",
    "*Use Different Activation Functions*:\n",
    "Try different activation functions for hidden layers, such as Leaky ReLU or Parametric ReLU, to introduce non-linearity.\n",
    "\n"
   ]
  },
  {
   "cell_type": "code",
   "execution_count": 43,
   "metadata": {},
   "outputs": [],
   "source": [
    "from tensorflow.keras.models import Sequential\n",
    "from tensorflow.keras.layers import Conv2D, MaxPooling2D, Dropout, Flatten, Dense, BatchNormalization, LeakyReLU\n",
    "\n",
    "model_batch = Sequential()\n",
    "\n",
    "model_batch.add(Conv2D(32, (3, 3), padding=\"same\", activation='elu', input_shape=(32, 32, 1)))\n",
    "model_batch.add(BatchNormalization())  # Add Batch Normalization here\n",
    "model_batch.add(MaxPooling2D(pool_size=(2, 2)))\n",
    "\n",
    "model_batch.add(Conv2D(64, (3, 3), activation='elu'))\n",
    "model_batch.add(BatchNormalization())  # Add Batch Normalization here\n",
    "model_batch.add(MaxPooling2D(pool_size=(2, 2)))\n",
    "\n",
    "model_batch.add(Conv2D(128, (3, 3), activation='elu'))\n",
    "model_batch.add(BatchNormalization())  # Add Batch Normalization here\n",
    "model_batch.add(MaxPooling2D(pool_size=(2, 2)))\n",
    "\n",
    "model_batch.add(Dropout(0.25))\n",
    "\n",
    "model_batch.add(Flatten())\n",
    "model_batch.add(Dense(128, activation='elu'))\n",
    "model_batch.add(BatchNormalization())  # Add Batch Normalization here\n",
    "model_batch.add(Dropout(0.2))\n",
    "\n",
    "model_batch.add(Dense(25, activation='softmax'))\n"
   ]
  },
  {
   "cell_type": "code",
   "execution_count": 45,
   "metadata": {},
   "outputs": [],
   "source": [
    "model_batch.compile(loss='categorical_crossentropy', optimizer=\"nadam\", metrics=['accuracy'])"
   ]
  },
  {
   "cell_type": "code",
   "execution_count": 46,
   "metadata": {},
   "outputs": [
    {
     "name": "stdout",
     "output_type": "stream",
     "text": [
      "Epoch 1/50\n",
      "3125/3125 [==============================] - 155s 48ms/step - loss: 0.4426 - accuracy: 0.8615 - val_loss: 0.3095 - val_accuracy: 0.8929\n",
      "Epoch 2/50\n",
      "3125/3125 [==============================] - 126s 40ms/step - loss: 0.2528 - accuracy: 0.9185 - val_loss: 0.2716 - val_accuracy: 0.9126\n",
      "Epoch 3/50\n",
      "3125/3125 [==============================] - 118s 38ms/step - loss: 0.2195 - accuracy: 0.9275 - val_loss: 0.2226 - val_accuracy: 0.9226\n",
      "Epoch 4/50\n",
      "3125/3125 [==============================] - 122s 39ms/step - loss: 0.1993 - accuracy: 0.9334 - val_loss: 0.2176 - val_accuracy: 0.9232\n",
      "Epoch 5/50\n",
      "3125/3125 [==============================] - 119s 38ms/step - loss: 0.1850 - accuracy: 0.9381 - val_loss: 0.1963 - val_accuracy: 0.9353\n",
      "Epoch 6/50\n",
      "3125/3125 [==============================] - 123s 39ms/step - loss: 0.1721 - accuracy: 0.9406 - val_loss: 0.2246 - val_accuracy: 0.9182\n",
      "Epoch 7/50\n",
      "3125/3125 [==============================] - 120s 38ms/step - loss: 0.1636 - accuracy: 0.9431 - val_loss: 0.2032 - val_accuracy: 0.9343\n",
      "Epoch 8/50\n",
      "3125/3125 [==============================] - 119s 38ms/step - loss: 0.1547 - accuracy: 0.9460 - val_loss: 0.1906 - val_accuracy: 0.9349\n",
      "Epoch 9/50\n",
      "3125/3125 [==============================] - 122s 39ms/step - loss: 0.1511 - accuracy: 0.9467 - val_loss: 0.2125 - val_accuracy: 0.9317\n",
      "Epoch 10/50\n",
      "3125/3125 [==============================] - 117s 37ms/step - loss: 0.1432 - accuracy: 0.9492 - val_loss: 0.1983 - val_accuracy: 0.9323\n",
      "Epoch 11/50\n",
      "3125/3125 [==============================] - 131s 42ms/step - loss: 0.1378 - accuracy: 0.9497 - val_loss: 0.2148 - val_accuracy: 0.9286\n",
      "Epoch 12/50\n",
      "3125/3125 [==============================] - 184s 59ms/step - loss: 0.1358 - accuracy: 0.9505 - val_loss: 0.1947 - val_accuracy: 0.9361\n",
      "Epoch 13/50\n",
      "3125/3125 [==============================] - 187s 60ms/step - loss: 0.1301 - accuracy: 0.9526 - val_loss: 0.1944 - val_accuracy: 0.9328\n",
      "Epoch 14/50\n",
      "3125/3125 [==============================] - 176s 56ms/step - loss: 0.1282 - accuracy: 0.9531 - val_loss: 0.2023 - val_accuracy: 0.9310\n",
      "Epoch 15/50\n",
      "3125/3125 [==============================] - 179s 57ms/step - loss: 0.1230 - accuracy: 0.9544 - val_loss: 0.1855 - val_accuracy: 0.9384\n",
      "Epoch 16/50\n",
      "3125/3125 [==============================] - 118s 38ms/step - loss: 0.1189 - accuracy: 0.9548 - val_loss: 0.1941 - val_accuracy: 0.9334\n",
      "Epoch 17/50\n",
      "3125/3125 [==============================] - 121s 39ms/step - loss: 0.1172 - accuracy: 0.9558 - val_loss: 0.1991 - val_accuracy: 0.9310\n",
      "Epoch 18/50\n",
      "3125/3125 [==============================] - 120s 38ms/step - loss: 0.1131 - accuracy: 0.9575 - val_loss: 0.1905 - val_accuracy: 0.9384\n",
      "Epoch 19/50\n",
      "3125/3125 [==============================] - 121s 39ms/step - loss: 0.1104 - accuracy: 0.9579 - val_loss: 0.1929 - val_accuracy: 0.9385\n",
      "Epoch 20/50\n",
      "3125/3125 [==============================] - 119s 38ms/step - loss: 0.1098 - accuracy: 0.9575 - val_loss: 0.1898 - val_accuracy: 0.9439\n",
      "Epoch 21/50\n",
      "3125/3125 [==============================] - 118s 38ms/step - loss: 0.1053 - accuracy: 0.9599 - val_loss: 0.1920 - val_accuracy: 0.9417\n",
      "Epoch 22/50\n",
      "3125/3125 [==============================] - 121s 39ms/step - loss: 0.1034 - accuracy: 0.9600 - val_loss: 0.2168 - val_accuracy: 0.9331\n",
      "Epoch 23/50\n",
      "3125/3125 [==============================] - 117s 37ms/step - loss: 0.1019 - accuracy: 0.9606 - val_loss: 0.1996 - val_accuracy: 0.9373\n",
      "Epoch 24/50\n",
      "3125/3125 [==============================] - 117s 38ms/step - loss: 0.1001 - accuracy: 0.9618 - val_loss: 0.2163 - val_accuracy: 0.9316\n",
      "Epoch 25/50\n",
      "3125/3125 [==============================] - 126s 40ms/step - loss: 0.0986 - accuracy: 0.9612 - val_loss: 0.2071 - val_accuracy: 0.9406\n",
      "Epoch 26/50\n",
      "3125/3125 [==============================] - 175s 56ms/step - loss: 0.0965 - accuracy: 0.9623 - val_loss: 0.2093 - val_accuracy: 0.9367\n",
      "Epoch 27/50\n",
      "3125/3125 [==============================] - 179s 57ms/step - loss: 0.0939 - accuracy: 0.9625 - val_loss: 0.2169 - val_accuracy: 0.9341\n",
      "Epoch 28/50\n",
      "3125/3125 [==============================] - 183s 59ms/step - loss: 0.0948 - accuracy: 0.9625 - val_loss: 0.2059 - val_accuracy: 0.9378\n",
      "Epoch 29/50\n",
      "3125/3125 [==============================] - 148s 47ms/step - loss: 0.0929 - accuracy: 0.9635 - val_loss: 0.2264 - val_accuracy: 0.9308\n",
      "Epoch 30/50\n",
      "3125/3125 [==============================] - 120s 38ms/step - loss: 0.0922 - accuracy: 0.9633 - val_loss: 0.2094 - val_accuracy: 0.9429\n",
      "Epoch 31/50\n",
      "3125/3125 [==============================] - 121s 39ms/step - loss: 0.0888 - accuracy: 0.9645 - val_loss: 0.2121 - val_accuracy: 0.9375\n",
      "Epoch 32/50\n",
      "3125/3125 [==============================] - 119s 38ms/step - loss: 0.0880 - accuracy: 0.9651 - val_loss: 0.2321 - val_accuracy: 0.9319\n",
      "Epoch 33/50\n",
      "3125/3125 [==============================] - 119s 38ms/step - loss: 0.0871 - accuracy: 0.9650 - val_loss: 0.2093 - val_accuracy: 0.9387\n",
      "Epoch 34/50\n",
      "3125/3125 [==============================] - 121s 39ms/step - loss: 0.0850 - accuracy: 0.9660 - val_loss: 0.2325 - val_accuracy: 0.9266\n",
      "Epoch 35/50\n",
      "3125/3125 [==============================] - 119s 38ms/step - loss: 0.0831 - accuracy: 0.9669 - val_loss: 0.2363 - val_accuracy: 0.9325\n",
      "Epoch 36/50\n",
      "3125/3125 [==============================] - 119s 38ms/step - loss: 0.0825 - accuracy: 0.9664 - val_loss: 0.2175 - val_accuracy: 0.9382\n",
      "Epoch 37/50\n",
      "3125/3125 [==============================] - 118s 38ms/step - loss: 0.0828 - accuracy: 0.9667 - val_loss: 0.2178 - val_accuracy: 0.9445\n",
      "Epoch 38/50\n",
      "3125/3125 [==============================] - 117s 37ms/step - loss: 0.0817 - accuracy: 0.9671 - val_loss: 0.2324 - val_accuracy: 0.9414\n",
      "Epoch 39/50\n",
      "3125/3125 [==============================] - 146s 47ms/step - loss: 0.0812 - accuracy: 0.9676 - val_loss: 0.2238 - val_accuracy: 0.9366\n",
      "Epoch 40/50\n",
      "3125/3125 [==============================] - 180s 58ms/step - loss: 0.0780 - accuracy: 0.9684 - val_loss: 0.2267 - val_accuracy: 0.9408\n",
      "Epoch 41/50\n",
      "3125/3125 [==============================] - 182s 58ms/step - loss: 0.0783 - accuracy: 0.9688 - val_loss: 0.2440 - val_accuracy: 0.9355\n",
      "Epoch 42/50\n",
      "3125/3125 [==============================] - 146s 47ms/step - loss: 0.0774 - accuracy: 0.9692 - val_loss: 0.2207 - val_accuracy: 0.9435\n",
      "Epoch 43/50\n",
      "3125/3125 [==============================] - 119s 38ms/step - loss: 0.0782 - accuracy: 0.9679 - val_loss: 0.2417 - val_accuracy: 0.9373\n",
      "Epoch 44/50\n",
      "3125/3125 [==============================] - 118s 38ms/step - loss: 0.0762 - accuracy: 0.9691 - val_loss: 0.2326 - val_accuracy: 0.9412\n",
      "Epoch 45/50\n",
      "3125/3125 [==============================] - 121s 39ms/step - loss: 0.0764 - accuracy: 0.9690 - val_loss: 0.2306 - val_accuracy: 0.9421\n",
      "Epoch 46/50\n",
      "3125/3125 [==============================] - 117s 38ms/step - loss: 0.0747 - accuracy: 0.9698 - val_loss: 0.2275 - val_accuracy: 0.9397\n",
      "Epoch 47/50\n",
      "3125/3125 [==============================] - 120s 38ms/step - loss: 0.0724 - accuracy: 0.9704 - val_loss: 0.2425 - val_accuracy: 0.9328\n",
      "Epoch 48/50\n",
      "3125/3125 [==============================] - 120s 38ms/step - loss: 0.0719 - accuracy: 0.9703 - val_loss: 0.2293 - val_accuracy: 0.9432\n",
      "Epoch 49/50\n",
      "3125/3125 [==============================] - 119s 38ms/step - loss: 0.0723 - accuracy: 0.9705 - val_loss: 0.2484 - val_accuracy: 0.9335\n",
      "Epoch 50/50\n",
      "3125/3125 [==============================] - 121s 39ms/step - loss: 0.0706 - accuracy: 0.9716 - val_loss: 0.2529 - val_accuracy: 0.9293\n"
     ]
    }
   ],
   "source": [
    "history_batch = model_batch.fit(train_X,train_Y, epochs=50, batch_size=32, validation_data = (val_X, val_Y),  verbose=1)"
   ]
  },
  {
   "cell_type": "code",
   "execution_count": 57,
   "metadata": {},
   "outputs": [
    {
     "data": {
      "image/png": "[encoded data removed]",
      "text/plain": [
       "<Figure size 640x480 with 1 Axes>"
      ]
     },
     "metadata": {},
     "output_type": "display_data"
    }
   ],
   "source": [
    "plt.plot(history_batch.history['accuracy'])\n",
    "plt.plot(history_batch.history['val_accuracy'])\n",
    "plt.title('Training Accuracy vs Validation Accuracy')\n",
    "plt.ylabel('Accuracy')\n",
    "plt.xlabel('Epoch')\n",
    "plt.legend(['Train', 'Validation'], loc='upper left')\n",
    "plt.show()"
   ]
  },
  {
   "cell_type": "code",
   "execution_count": 58,
   "metadata": {},
   "outputs": [
    {
     "data": {
      "image/png": "[encoded data removed]",
      "text/plain": [
       "<Figure size 640x480 with 1 Axes>"
      ]
     },
     "metadata": {},
     "output_type": "display_data"
    }
   ],
   "source": [
    "plt.plot(history_batch.history['loss'])\n",
    "plt.plot(history_batch.history['val_loss'])\n",
    "plt.title('Training Loss vs Validation Loss')\n",
    "plt.ylabel('Loss')\n",
    "plt.xlabel('Epoch')\n",
    "plt.legend(['Train', 'Validation'], loc='upper left')\n",
    "plt.show()"
   ]
  },
  {
   "cell_type": "markdown",
   "metadata": {},
   "source": [
    "## Recognition and Post-Processing \n",
    "1. The sort contours function is used to get the correct order of individual characters for correct output extraction. In this case for extracting a single word, a left to right sorting of individual characters is needed.\n",
    "2. The get letters function fetches the list of letters and get word function gets the individual word. "
   ]
  },
  {
   "cell_type": "code",
   "execution_count": 50,
   "metadata": {},
   "outputs": [],
   "source": [
    "def sort_contours(cnts, method=\"left-to-right\"):\n",
    "    reverse = False\n",
    "    i = 0\n",
    "    if method == \"right-to-left\" or method == \"bottom-to-top\":\n",
    "        reverse = True\n",
    "    if method == \"top-to-bottom\" or method == \"bottom-to-top\":\n",
    "        i = 1\n",
    "    boundingBoxes = [cv2.boundingRect(c) for c in cnts]\n",
    "    (cnts, boundingBoxes) = zip(*sorted(zip(cnts, boundingBoxes),\n",
    "    key=lambda b:b[1][i], reverse=reverse))\n",
    "    # return the list of sorted contours and bounding boxes\n",
    "    return (cnts, boundingBoxes)"
   ]
  },
  {
   "cell_type": "code",
   "execution_count": 6,
   "metadata": {},
   "outputs": [],
   "source": [
    "def get_letters(img, model):\n",
    "    letters = []\n",
    "    image = cv2.imread(img)\n",
    "    gray = cv2.cvtColor(image, cv2.COLOR_BGR2GRAY)\n",
    "    ret,thresh1 = cv2.threshold(gray ,127,255,cv2.THRESH_BINARY_INV)\n",
    "    dilated = cv2.dilate(thresh1, None, iterations=2)\n",
    "\n",
    "    cnts = cv2.findContours(dilated.copy(), cv2.RETR_EXTERNAL,cv2.CHAIN_APPROX_SIMPLE)\n",
    "    cnts = imutils.grab_contours(cnts)\n",
    "    cnts = sort_contours(cnts, method=\"left-to-right\")[0]\n",
    "    # loop over the contours\n",
    "    for c in cnts:\n",
    "        if cv2.contourArea(c) > 10:\n",
    "            (x, y, w, h) = cv2.boundingRect(c)\n",
    "            cv2.rectangle(image, (x, y), (x + w, y + h), (0, 255, 0), 2)\n",
    "        roi = gray[y:y + h, x:x + w]\n",
    "        thresh = cv2.threshold(roi, 0, 255,cv2.THRESH_BINARY_INV | cv2.THRESH_OTSU)[1]\n",
    "        thresh = cv2.resize(thresh, (32, 32), interpolation = cv2.INTER_CUBIC)\n",
    "        thresh = thresh.astype(\"float32\") / 255.0\n",
    "        thresh = np.expand_dims(thresh, axis=-1)\n",
    "        thresh = thresh.reshape(1,32,32,1)\n",
    "        ypred = model.predict(thresh)\n",
    "        ypred = LB.inverse_transform(ypred)\n",
    "        [x] = ypred\n",
    "        letters.append(x)\n",
    "    return letters, image\n"
   ]
  },
  {
   "cell_type": "code",
   "execution_count": 63,
   "metadata": {},
   "outputs": [],
   "source": [
    "def get_word(letter):\n",
    "    word = \"\".join(letter)\n",
    "    return word"
   ]
  },
  {
   "cell_type": "markdown",
   "metadata": {},
   "source": [
    "## Download the model and labelbinarizer \n",
    "credit: ChatGPT"
   ]
  },
  {
   "cell_type": "code",
   "execution_count": 70,
   "metadata": {},
   "outputs": [],
   "source": [
    "joblib.dump(model_batch, 'model_trail_3.pkl')\n",
    "joblib.dump(LB, 'label_binarizer.joblib')"
   ]
  }
 ],
 "metadata": {
  "kernelspec": {
   "display_name": "Python 3 (ipykernel)",
   "language": "python",
   "name": "python3"
  },
  "language_info": {
   "codemirror_mode": {
    "name": "ipython",
    "version": 3
   },
   "file_extension": ".py",
   "mimetype": "text/x-python",
   "name": "python",
   "nbconvert_exporter": "python",
   "pygments_lexer": "ipython3",
   "version": "3.11.5"
  }
 },
 "nbformat": 4,
 "nbformat_minor": 4
}
